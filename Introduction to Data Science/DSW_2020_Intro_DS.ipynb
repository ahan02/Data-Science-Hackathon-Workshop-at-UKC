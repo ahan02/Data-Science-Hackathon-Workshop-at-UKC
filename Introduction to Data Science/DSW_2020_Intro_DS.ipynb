{
  "nbformat": 4,
  "nbformat_minor": 0,
  "metadata": {
    "kernelspec": {
      "display_name": "Python 3",
      "language": "python",
      "name": "python3"
    },
    "language_info": {
      "codemirror_mode": {
        "name": "ipython",
        "version": 3
      },
      "file_extension": ".py",
      "mimetype": "text/x-python",
      "name": "python",
      "nbconvert_exporter": "python",
      "pygments_lexer": "ipython3",
      "version": "3.6.5"
    },
    "latex_envs": {
      "LaTeX_envs_menu_present": true,
      "bibliofile": "biblio.bib",
      "cite_by": "apalike",
      "current_citInitial": 1,
      "eqLabelWithNumbers": true,
      "eqNumInitial": 1,
      "hotkeys": {
        "equation": "Ctrl-E",
        "itemize": "Ctrl-I"
      },
      "labels_anchors": false,
      "latex_user_defs": false,
      "report_style_numbering": false,
      "user_envs_cfg": false
    },
    "toc": {
      "nav_menu": {
        "height": "282px",
        "width": "252px"
      },
      "number_sections": true,
      "sideBar": true,
      "skip_h1_title": false,
      "toc_cell": false,
      "toc_position": {},
      "toc_section_display": "block",
      "toc_window_display": false
    },
    "colab": {
      "name": "Intro to Data Science ver 7.ipynb",
      "provenance": []
    }
  },
  "cells": [
    {
      "cell_type": "markdown",
      "metadata": {
        "id": "VxOUjvZ9-yxg"
      },
      "source": [
        "# Introduction to Data Science"
      ]
    },
    {
      "cell_type": "markdown",
      "metadata": {
        "id": "I3itLqja-yxh"
      },
      "source": [
        "## What Libraries?"
      ]
    },
    {
      "cell_type": "markdown",
      "metadata": {
        "id": "zbLxgJka-yxi"
      },
      "source": [
        "#### Pandas is a package in Python that helps to handle lots of data. It helps to sort and clean the data.\n",
        "\n",
        "\n",
        "> From Pands documentation: https://pypi.org/project/pandas/\n",
        "\n",
        "##### Some highlights:\n",
        "\n",
        "- Easy handling of **missing data** (represented as NaN) in floating point as well as non-floating point data\n",
        "- Size mutability: columns can be **inserted and deleted** from DataFrame and higher dimensional objects\n",
        "- Intelligent **label-based slicing**, **fancy indexing**, and **subsetting** of large data sets\n",
        "- Intuitive **merging** and **joining** data sets\n",
        "- Flexible **reshaping** and **pivoting** of data sets\n",
        "\n",
        "\n",
        "#### Numpy is a package that defines a multi-dimensional array object. \n",
        "\n",
        "> From Numpy documentation: https://pypi.org/project/numpy/\n",
        "\n",
        "\n",
        "#### maplotlib produces quality 2D graphics\n",
        "\n",
        "> From matplotlib documentation: https://pypi.org/project/matplotlib/\n",
        "\n",
        "#### seaborn is a library for making statistical graphics\n",
        "\n",
        "> From seaborn documentation: https://pypi.org/project/seaborn/\n",
        "\n",
        "Let's get started with a sample data"
      ]
    },
    {
      "cell_type": "code",
      "metadata": {
        "ExecuteTime": {
          "end_time": "2018-06-15T15:55:13.324009Z",
          "start_time": "2018-06-15T15:55:11.918149Z"
        },
        "id": "H3Qpt0ji-yxj"
      },
      "source": [
        "import pandas as pd # the pd is by convention\n",
        "import numpy as np # as is the np\n",
        "\n",
        "import matplotlib.pyplot as plt\n",
        "import seaborn as sns\n",
        "\n",
        "# To Plot matplotlib figures inline on the notebook\n",
        "%matplotlib inline"
      ],
      "execution_count": null,
      "outputs": []
    },
    {
      "cell_type": "markdown",
      "metadata": {
        "id": "iJ3ojBRc-yxm"
      },
      "source": [
        "A Dataframe is essentially a table, like shown below"
      ]
    },
    {
      "cell_type": "markdown",
      "metadata": {
        "id": "SHS3QT2V-yxn"
      },
      "source": [
        "### Reading Data\n",
        "\n",
        "Data Description: \n",
        "\n",
        "The Ames Housing dataset was compiled by Dean De Cock for use in data science education. It's an incredible alternative for data scientists looking for a modernized and expanded version of the often cited Boston Housing dataset. \n",
        "\n",
        "Data obtained from data.gov\n",
        "https://www.kaggle.com/c/house-prices-advanced-regression-techniques/data\n"
      ]
    },
    {
      "cell_type": "markdown",
      "metadata": {
        "id": "wByzvN6O-yxn"
      },
      "source": [
        "##### To begin with, we're going to read in some data from a CSV"
      ]
    },
    {
      "cell_type": "code",
      "metadata": {
        "ExecuteTime": {
          "end_time": "2018-06-15T15:55:13.385387Z",
          "start_time": "2018-06-15T15:55:13.325932Z"
        },
        "scrolled": true,
        "id": "e3Pn6q_X-yxo"
      },
      "source": [
        "import pandas as pd\n",
        "url ='https://raw.githubusercontent.com/ahan02/Data-Science-Hackathon-Workshop-at-UKC-2019/master/data/train.csv'\n",
        "sample = pd.read_csv(url,index_col=0)\n",
        "sample.head()"
      ],
      "execution_count": null,
      "outputs": []
    },
    {
      "cell_type": "code",
      "metadata": {
        "ExecuteTime": {
          "end_time": "2018-06-15T15:55:14.709110Z",
          "start_time": "2018-06-15T15:55:14.696122Z"
        },
        "id": "UBD4GrMp-yxu"
      },
      "source": [
        "sample.tail()"
      ],
      "execution_count": null,
      "outputs": []
    },
    {
      "cell_type": "markdown",
      "metadata": {
        "id": "WeQqz4AA-yxx"
      },
      "source": [
        "Let's use a Pandas built-in function to learn more about our data."
      ]
    },
    {
      "cell_type": "code",
      "metadata": {
        "ExecuteTime": {
          "end_time": "2018-06-15T15:55:15.474995Z",
          "start_time": "2018-06-15T15:55:15.461376Z"
        },
        "id": "zkGqbX3o-yxy"
      },
      "source": [
        "sample.info()"
      ],
      "execution_count": null,
      "outputs": []
    },
    {
      "cell_type": "code",
      "metadata": {
        "ExecuteTime": {
          "end_time": "2018-06-15T15:55:17.641689Z",
          "start_time": "2018-06-15T15:55:17.601500Z"
        },
        "scrolled": true,
        "id": "U907RoHa-yx1"
      },
      "source": [
        "sample.describe()"
      ],
      "execution_count": null,
      "outputs": []
    },
    {
      "cell_type": "code",
      "metadata": {
        "ExecuteTime": {
          "end_time": "2018-06-15T15:55:19.050930Z",
          "start_time": "2018-06-15T15:55:19.045842Z"
        },
        "id": "noIABnUH-yx4"
      },
      "source": [
        "sample.shape"
      ],
      "execution_count": null,
      "outputs": []
    },
    {
      "cell_type": "markdown",
      "metadata": {
        "id": "2GVtXc-D-yx8"
      },
      "source": [
        "Great, looks like these are all behaving relatively as expected! That's lovely. "
      ]
    },
    {
      "cell_type": "markdown",
      "metadata": {
        "id": "sfazky3i-yx9"
      },
      "source": [
        "### Getting data from the dataframe\n",
        "\n",
        "Now let's learn how to grab some data from the DataFrame. "
      ]
    },
    {
      "cell_type": "code",
      "metadata": {
        "ExecuteTime": {
          "end_time": "2018-06-15T15:55:19.847990Z",
          "start_time": "2018-06-15T15:55:19.842182Z"
        },
        "scrolled": true,
        "id": "GOrgivDE-yx-"
      },
      "source": [
        "sample['YearBuilt'].head()"
      ],
      "execution_count": null,
      "outputs": []
    },
    {
      "cell_type": "code",
      "metadata": {
        "id": "1W7S217Y-yyD"
      },
      "source": [
        "sample['SalePrice']"
      ],
      "execution_count": null,
      "outputs": []
    },
    {
      "cell_type": "code",
      "metadata": {
        "ExecuteTime": {
          "end_time": "2018-06-15T15:55:21.368045Z",
          "start_time": "2018-06-15T15:55:21.357748Z"
        },
        "id": "9_9KjCwt-yyI"
      },
      "source": [
        "sample['SalePrice'].value_counts()"
      ],
      "execution_count": null,
      "outputs": []
    },
    {
      "cell_type": "markdown",
      "metadata": {
        "id": "QnAwORv1-yyN"
      },
      "source": [
        "**Exercise 1:**\n",
        "\n",
        "Using the dataframe, figure out about the distribution of the Sale price by sale condition and bedroom above ground "
      ]
    },
    {
      "cell_type": "code",
      "metadata": {
        "id": "IfYKrhc1-yyO"
      },
      "source": [
        "sample.columns"
      ],
      "execution_count": null,
      "outputs": []
    },
    {
      "cell_type": "code",
      "metadata": {
        "id": "5KcSHQ3V-yyS"
      },
      "source": [
        "sample.groupby(['SalePrice', 'SaleCondition']).size()"
      ],
      "execution_count": null,
      "outputs": []
    },
    {
      "cell_type": "code",
      "metadata": {
        "id": "s21xH9G5Os5n"
      },
      "source": [
        "g = sample.groupby(['SalePrice', 'BedroomAbvGr'])\n",
        "size = g.size()\n",
        "size[size > 5]"
      ],
      "execution_count": null,
      "outputs": []
    },
    {
      "cell_type": "code",
      "metadata": {
        "scrolled": true,
        "id": "FX7mP1_8-yyV"
      },
      "source": [
        "# Subsetting\n",
        "newsample=sample[['SalePrice', 'BedroomAbvGr']]\n",
        "newsample"
      ],
      "execution_count": null,
      "outputs": []
    },
    {
      "cell_type": "markdown",
      "metadata": {
        "id": "2GBC1TZN-yyX"
      },
      "source": [
        "We'll use `.idxmin` to do the job. It will return the first occurrence of minimum value"
      ]
    },
    {
      "cell_type": "code",
      "metadata": {
        "id": "wSDq6otU-yyY"
      },
      "source": [
        "newsample.loc[newsample['BedroomAbvGr'].idxmin()]"
      ],
      "execution_count": null,
      "outputs": []
    },
    {
      "cell_type": "markdown",
      "metadata": {
        "id": "dGRYjvmG-yya"
      },
      "source": [
        "### Row Lookups"
      ]
    },
    {
      "cell_type": "markdown",
      "metadata": {
        "id": "Df9Oi5xX-yyb"
      },
      "source": [
        "We'll use `.iloc` to do the job. Let's demonstrate by grabbing the first (0th) row."
      ]
    },
    {
      "cell_type": "code",
      "metadata": {
        "ExecuteTime": {
          "end_time": "2018-06-08T21:42:57.706983Z",
          "start_time": "2018-06-08T21:42:57.697891Z"
        },
        "id": "ZumpgQwv-yyc"
      },
      "source": [
        "newsample.iloc[0]"
      ],
      "execution_count": null,
      "outputs": []
    },
    {
      "cell_type": "code",
      "metadata": {
        "id": "l-FQMFNX-yyg"
      },
      "source": [
        "sample.iloc[0]"
      ],
      "execution_count": null,
      "outputs": []
    },
    {
      "cell_type": "markdown",
      "metadata": {
        "id": "LyfCkPRQ-yyj"
      },
      "source": [
        "return multiple rows by following Python's conventions like so:"
      ]
    },
    {
      "cell_type": "code",
      "metadata": {
        "ExecuteTime": {
          "end_time": "2018-06-08T21:42:58.131160Z",
          "start_time": "2018-06-08T21:42:58.115537Z"
        },
        "id": "oV_sOhIw-yyk"
      },
      "source": [
        "newsample.iloc[0:3]"
      ],
      "execution_count": null,
      "outputs": []
    },
    {
      "cell_type": "code",
      "metadata": {
        "id": "Kyc48Nvl-yyn"
      },
      "source": [
        "sample.iloc[0:3]"
      ],
      "execution_count": null,
      "outputs": []
    },
    {
      "cell_type": "markdown",
      "metadata": {
        "id": "1XIU8BSf-yyq"
      },
      "source": [
        "Note:iloc means \"index location\" "
      ]
    },
    {
      "cell_type": "markdown",
      "metadata": {
        "id": "T4fcWvFT-yyu"
      },
      "source": [
        "### Filtering"
      ]
    },
    {
      "cell_type": "markdown",
      "metadata": {
        "id": "fmOVhuiK-yyv"
      },
      "source": [
        "Now we want to filter the data so we only see rows that match a certain criteria. If condition criter is met, it will show true and if not, mark it as a false."
      ]
    },
    {
      "cell_type": "code",
      "metadata": {
        "ExecuteTime": {
          "end_time": "2018-06-08T21:43:01.430948Z",
          "start_time": "2018-06-08T21:43:01.422943Z"
        },
        "scrolled": true,
        "id": "PwXCmYa1-yyv"
      },
      "source": [
        "newerhomes = (sample['YearBuilt'] > 2000) \n",
        "newerhomes"
      ],
      "execution_count": null,
      "outputs": []
    },
    {
      "cell_type": "code",
      "metadata": {
        "id": "sdQ8OsU3-yyy"
      },
      "source": [
        "sample.columns"
      ],
      "execution_count": null,
      "outputs": []
    },
    {
      "cell_type": "code",
      "metadata": {
        "ExecuteTime": {
          "end_time": "2018-06-08T21:43:01.761884Z",
          "start_time": "2018-06-08T21:43:01.750004Z"
        },
        "id": "zPenY013-yy0"
      },
      "source": [
        "largerhomes = (sample['BedroomAbvGr'] > 4) \n",
        "largerhomes"
      ],
      "execution_count": null,
      "outputs": []
    },
    {
      "cell_type": "markdown",
      "metadata": {
        "id": "pIPk8NxE-yy3"
      },
      "source": [
        "Now we apply the largerhomes and should see that only rows with that condition!"
      ]
    },
    {
      "cell_type": "code",
      "metadata": {
        "ExecuteTime": {
          "end_time": "2018-06-08T21:43:02.452792Z",
          "start_time": "2018-06-08T21:43:02.435474Z"
        },
        "id": "X8NKCLIC-yy3"
      },
      "source": [
        "sample_test = sample[largerhomes] \n",
        "sample_test\n",
        "#sample_test.head()"
      ],
      "execution_count": null,
      "outputs": []
    },
    {
      "cell_type": "markdown",
      "metadata": {
        "collapsed": true,
        "id": "1IKBkADh-yy8"
      },
      "source": [
        "Multiple condition? no issues"
      ]
    },
    {
      "cell_type": "code",
      "metadata": {
        "ExecuteTime": {
          "end_time": "2018-06-08T21:43:04.194201Z",
          "start_time": "2018-06-08T21:43:04.179887Z"
        },
        "id": "FSZplWps-yy9"
      },
      "source": [
        "test = (sample['BedroomAbvGr'] > 4) & (sample['YearBuilt'] ==1973)\n",
        "sample[test]"
      ],
      "execution_count": null,
      "outputs": []
    },
    {
      "cell_type": "markdown",
      "metadata": {
        "id": "N9J-GVMI-yzA"
      },
      "source": [
        "**Exercise 2:**\n",
        "\n",
        "Subset sale price with full bath (#), and find the lowest sales price of the house, also return # of the full bath"
      ]
    },
    {
      "cell_type": "code",
      "metadata": {
        "id": "NPyt21Jb-yzA"
      },
      "source": [
        "# Hint: create a filter called mask, then apply it to the dataframe"
      ],
      "execution_count": null,
      "outputs": []
    },
    {
      "cell_type": "code",
      "metadata": {
        "id": "ft2P39GI-yzE"
      },
      "source": [
        "# Subsetting\n",
        "newsample=sample[['SalePrice', 'FullBath']]\n",
        "newsample"
      ],
      "execution_count": null,
      "outputs": []
    },
    {
      "cell_type": "code",
      "metadata": {
        "id": "6jQZK8aW-yzG"
      },
      "source": [
        "newsample.loc[newsample['SalePrice'].idxmin()]"
      ],
      "execution_count": null,
      "outputs": []
    },
    {
      "cell_type": "markdown",
      "metadata": {
        "id": "K3f3skET-yzJ"
      },
      "source": [
        "### Doing Stats with Pandas"
      ]
    },
    {
      "cell_type": "markdown",
      "metadata": {
        "id": "6aVnLqEq-yzJ"
      },
      "source": [
        "Let's do some summary statistics"
      ]
    },
    {
      "cell_type": "code",
      "metadata": {
        "ExecuteTime": {
          "end_time": "2018-06-08T21:43:04.869491Z",
          "start_time": "2018-06-08T21:43:04.864047Z"
        },
        "id": "Q2NskXnt-yzK"
      },
      "source": [
        "sample['SalePrice'].mean()"
      ],
      "execution_count": null,
      "outputs": []
    },
    {
      "cell_type": "markdown",
      "metadata": {
        "id": "CcbM85TZ-yzQ"
      },
      "source": [
        "Or we could find the max or min "
      ]
    },
    {
      "cell_type": "code",
      "metadata": {
        "ExecuteTime": {
          "end_time": "2018-06-08T21:43:05.644524Z",
          "start_time": "2018-06-08T21:43:05.639157Z"
        },
        "id": "HMiyf4gX-yzR"
      },
      "source": [
        "print(sample['SalePrice'].max())"
      ],
      "execution_count": null,
      "outputs": []
    },
    {
      "cell_type": "code",
      "metadata": {
        "ExecuteTime": {
          "end_time": "2018-06-08T21:43:05.995282Z",
          "start_time": "2018-06-08T21:43:05.987288Z"
        },
        "id": "T-RTVf8M-yzT"
      },
      "source": [
        "print(sample['SalePrice'].min())"
      ],
      "execution_count": null,
      "outputs": []
    },
    {
      "cell_type": "markdown",
      "metadata": {
        "id": "MrfCTMDm-yzW"
      },
      "source": [
        "### Making new columns"
      ]
    },
    {
      "cell_type": "markdown",
      "metadata": {
        "id": "rZf-lxoW-yzX"
      },
      "source": [
        "Pandas also allows us to create columns that are mixtures of other columns. Let's make a column that is \"visibility as a percentage of the maximum visibility\"."
      ]
    },
    {
      "cell_type": "code",
      "metadata": {
        "id": "rjP1s13t-yzX"
      },
      "source": [
        "sample.head(3)"
      ],
      "execution_count": null,
      "outputs": []
    },
    {
      "cell_type": "code",
      "metadata": {
        "ExecuteTime": {
          "end_time": "2018-06-08T21:43:14.404398Z",
          "start_time": "2018-06-08T21:43:14.387998Z"
        },
        "id": "HIJYkAd5-yzb"
      },
      "source": [
        "#drop rows\n",
        "newdf=sample[1:6]\n",
        "newdf"
      ],
      "execution_count": null,
      "outputs": []
    },
    {
      "cell_type": "code",
      "metadata": {
        "id": "uxmbgYXc-yzd"
      },
      "source": [
        "#drop columns\n",
        "newdf2=sample.drop(columns=[\"Street\"])\n",
        "newdf2"
      ],
      "execution_count": null,
      "outputs": []
    },
    {
      "cell_type": "code",
      "metadata": {
        "id": "g9aaMxOc-yzf"
      },
      "source": [
        "sample['Compare_years'] = sample['YearRemodAdd']-sample['YearBuilt']\n",
        "sample"
      ],
      "execution_count": null,
      "outputs": []
    },
    {
      "cell_type": "code",
      "metadata": {
        "id": "zJk-8uHy-yzh"
      },
      "source": [
        "##check nulls in the data\n",
        "\n",
        "sample.isnull().sum()"
      ],
      "execution_count": null,
      "outputs": []
    },
    {
      "cell_type": "code",
      "metadata": {
        "id": "fVakzthb-yzj"
      },
      "source": [
        "#map missing values\n",
        "\n",
        "sns.heatmap(sample.isnull(), cbar=False)"
      ],
      "execution_count": null,
      "outputs": []
    },
    {
      "cell_type": "markdown",
      "metadata": {
        "id": "zEBuTQtM-yzl"
      },
      "source": [
        "### Plotting with Pandas"
      ]
    },
    {
      "cell_type": "markdown",
      "metadata": {
        "id": "AtDZd_3q-yzm"
      },
      "source": [
        "The last part of pandas we want to explore today is some of it's built in plotting features. let's plot histogram"
      ]
    },
    {
      "cell_type": "code",
      "metadata": {
        "ExecuteTime": {
          "end_time": "2018-06-15T19:16:04.169635Z",
          "start_time": "2018-06-15T19:16:03.996632Z"
        },
        "id": "cVY3xN0A-yzm"
      },
      "source": [
        "sample['SalePrice'].plot.hist()\n",
        "plt.xlabel(\"Sales price\");"
      ],
      "execution_count": null,
      "outputs": []
    },
    {
      "cell_type": "markdown",
      "metadata": {
        "id": "B2Gn_ia8-yzp"
      },
      "source": [
        "**Exercise 3**\n",
        "\n",
        "Plot a histogram of other columns e.g. 'All Ages, 2012'"
      ]
    },
    {
      "cell_type": "code",
      "metadata": {
        "ExecuteTime": {
          "end_time": "2018-06-15T19:16:09.747090Z",
          "start_time": "2018-06-15T19:16:09.744402Z"
        },
        "id": "NBuVOKcA-yzq"
      },
      "source": [
        "# Hint: plot.hist(), plot.line()"
      ],
      "execution_count": null,
      "outputs": []
    },
    {
      "cell_type": "code",
      "metadata": {
        "id": "JiAjlGQO-yzs"
      },
      "source": [
        "sample['YearBuilt'].plot.hist()\n",
        "plt.xlabel(\"YearBuilt\");"
      ],
      "execution_count": null,
      "outputs": []
    },
    {
      "cell_type": "code",
      "metadata": {
        "id": "T1xTbRM0-yzv"
      },
      "source": [
        "new_sample=sample[['SalePrice','YearBuilt', 'FullBath', 'BedroomAbvGr']]"
      ],
      "execution_count": null,
      "outputs": []
    },
    {
      "cell_type": "code",
      "metadata": {
        "id": "jyI190Ft-yzy"
      },
      "source": [
        "new_sample"
      ],
      "execution_count": null,
      "outputs": []
    },
    {
      "cell_type": "markdown",
      "metadata": {
        "id": "OnJ7NYUQ-yz1"
      },
      "source": [
        "### Plotting with matplotlib"
      ]
    },
    {
      "cell_type": "code",
      "metadata": {
        "id": "5DmOZs2i-yz1"
      },
      "source": [
        "x = new_sample['FullBath']\n",
        "y = new_sample['SalePrice']\n",
        "\n",
        "plt.scatter(x, y,  alpha=0.5)\n",
        "plt.show()"
      ],
      "execution_count": null,
      "outputs": []
    },
    {
      "cell_type": "markdown",
      "metadata": {
        "id": "aS5jP2Ln-yz3"
      },
      "source": [
        "## Correlation Analysis"
      ]
    },
    {
      "cell_type": "code",
      "metadata": {
        "scrolled": false,
        "id": "ypJnAoeZ-yz3"
      },
      "source": [
        "new_sample.corr()"
      ],
      "execution_count": null,
      "outputs": []
    },
    {
      "cell_type": "markdown",
      "metadata": {
        "id": "mf3hDslz-yz5"
      },
      "source": [
        "### Correlation matrix with seaborn"
      ]
    },
    {
      "cell_type": "code",
      "metadata": {
        "scrolled": true,
        "id": "nWDSldGf-yz6"
      },
      "source": [
        "Var_Corr = new_sample.corr()\n",
        "sns.heatmap(Var_Corr, xticklabels=Var_Corr.columns, yticklabels=Var_Corr.columns, annot=True)"
      ],
      "execution_count": null,
      "outputs": []
    },
    {
      "cell_type": "code",
      "metadata": {
        "id": "Af1NCrTy-yz8"
      },
      "source": [
        "def heatMap(df):\n",
        "    corr = new_sample.corr()\n",
        "    fig, ax = plt.subplots(figsize=(10, 10))\n",
        "    colormap = sns.diverging_palette(220, 10, as_cmap=True)\n",
        "    sns.heatmap(corr, cmap=colormap, annot=True, fmt=\".2f\")\n",
        "    plt.xticks(range(len(corr.columns)), corr.columns);\n",
        "    plt.yticks(range(len(corr.columns)), corr.columns)\n",
        "    plt.show()"
      ],
      "execution_count": null,
      "outputs": []
    },
    {
      "cell_type": "code",
      "metadata": {
        "scrolled": true,
        "id": "IiwaixnZ-yz_"
      },
      "source": [
        "heatMap(new_sample)"
      ],
      "execution_count": null,
      "outputs": []
    },
    {
      "cell_type": "code",
      "metadata": {
        "scrolled": true,
        "id": "6oiXqqHJ-y0C"
      },
      "source": [
        "pd.plotting.scatter_matrix(new_sample, figsize=(10, 10))"
      ],
      "execution_count": null,
      "outputs": []
    },
    {
      "cell_type": "markdown",
      "metadata": {
        "id": "5yyY72yu-y0E"
      },
      "source": [
        "## Challenges"
      ]
    },
    {
      "cell_type": "markdown",
      "metadata": {
        "id": "8qtkdcEr-y0G"
      },
      "source": [
        "In the data folder, there is a csv that contains the file `Census_Data_-_Selected_socioeconomic_indicators_in_Chicago__2008___2012.csv`. That data is from here: https://catalog.data.gov/dataset/census-data-selected-socioeconomic-indicators-in-chicago-2008-2012-36e55\n",
        "\n",
        "This dataset contains a selection of six socioeconomic indicators of public health significance and a “hardship index,” by Chicago community area, for the years 2008 – 2012. The indicators are the percent of occupied housing units with more than one person per room (i.e., crowded housing); the percent of households living below the federal poverty level; the percent of persons in the labor force over the age of 16 years that are unemployed; the percent of persons over the age of 25 years without a high school diploma; the percent of the population under 18 or over 64 years of age (i.e., dependency); and per capita income. "
      ]
    },
    {
      "cell_type": "markdown",
      "metadata": {
        "id": "4C9tILt_-y0G"
      },
      "source": [
        "### Challenge 1: Load the file into a Pandas dataframe, then print the top 5 rows\n",
        "\n",
        "Store this dataframe in a variable called `poverty`"
      ]
    },
    {
      "cell_type": "code",
      "metadata": {
        "id": "sS4PZIc4-y0H"
      },
      "source": [
        ""
      ],
      "execution_count": null,
      "outputs": []
    },
    {
      "cell_type": "markdown",
      "metadata": {
        "id": "Vs1lmUKN-y0K"
      },
      "source": [
        "### Challenge 2: Find the mean 'PER CAPITA INCOME' and the mean 'PERCENT AGED 16+ UNEMPLOYED' in the dataset as a whole. "
      ]
    },
    {
      "cell_type": "code",
      "metadata": {
        "id": "xw9GwGFa-y0L"
      },
      "source": [
        ""
      ],
      "execution_count": null,
      "outputs": []
    },
    {
      "cell_type": "markdown",
      "metadata": {
        "id": "lOAUn2ah-y0N"
      },
      "source": [
        "### Challenge 3: Find max, min and mean of 'HARDSHIP INDEX' and return name of 'COMMUNITY AREA NAME'"
      ]
    },
    {
      "cell_type": "code",
      "metadata": {
        "id": "jXJatmr7-y0O"
      },
      "source": [
        ""
      ],
      "execution_count": null,
      "outputs": []
    },
    {
      "cell_type": "markdown",
      "metadata": {
        "id": "gjX5kgxR-y0U"
      },
      "source": [
        "### Challenge 4: Plot a histogram for 'HARDSHIP INDEX'"
      ]
    },
    {
      "cell_type": "code",
      "metadata": {
        "id": "rMQK-l41-y0V"
      },
      "source": [
        ""
      ],
      "execution_count": null,
      "outputs": []
    },
    {
      "cell_type": "markdown",
      "metadata": {
        "collapsed": true,
        "id": "LUHj5cfG-y0X"
      },
      "source": [
        "### Challenge 5: Create new column 'New HARDSHIP INDEX' by calculating 'HARDSHIP INDEX'/Mean of 'HARDSHIP INDEX'"
      ]
    },
    {
      "cell_type": "code",
      "metadata": {
        "id": "rDBFxvdS-y0Y"
      },
      "source": [
        ""
      ],
      "execution_count": null,
      "outputs": []
    },
    {
      "cell_type": "markdown",
      "metadata": {
        "id": "GGzYVlMj-y0Z"
      },
      "source": [
        "### Challenge 6: Identify Null values in the data "
      ]
    },
    {
      "cell_type": "code",
      "metadata": {
        "id": "aqMdgaOi-y0a"
      },
      "source": [
        ""
      ],
      "execution_count": null,
      "outputs": []
    },
    {
      "cell_type": "markdown",
      "metadata": {
        "id": "NQdLjnVc-y0e"
      },
      "source": [
        "### Challenge 7: Subset data into smaller data set, Let's choose 'COMMUNITY AREA NAME', 'PERCENT HOUSEHOLDS BELOW POVERTY', 'PERCENT AGED 16+ UNEMPLOYED', 'PERCENT AGED 25+ WITHOUT HIGH SCHOOL DIPLOMA', 'PER CAPITA INCOME', and 'HARDSHIP INDEX'"
      ]
    },
    {
      "cell_type": "code",
      "metadata": {
        "id": "G6o7hPbd-y0e"
      },
      "source": [
        ""
      ],
      "execution_count": null,
      "outputs": []
    },
    {
      "cell_type": "markdown",
      "metadata": {
        "id": "cOcJNf_G-y0h"
      },
      "source": [
        "### Challenge 8: Using new subset from Challenge 7, create another new subset without 'COMMUNITY AREA NAME' (hint: delete column)"
      ]
    },
    {
      "cell_type": "code",
      "metadata": {
        "id": "sDi5qOZs-y0i"
      },
      "source": [
        ""
      ],
      "execution_count": null,
      "outputs": []
    },
    {
      "cell_type": "markdown",
      "metadata": {
        "id": "MoG_4JoL-y0l"
      },
      "source": [
        "### Challenge 9: using new subset in Challenge 8, plot scatter plot using 'HARDSHIP INDEX' (Y) and 'PER CAPITA INCOME' (X)"
      ]
    },
    {
      "cell_type": "code",
      "metadata": {
        "id": "MZWBI2CI-y0l"
      },
      "source": [
        ""
      ],
      "execution_count": null,
      "outputs": []
    },
    {
      "cell_type": "markdown",
      "metadata": {
        "id": "1hwvGia4-y0o"
      },
      "source": [
        "### Challenge 10: using new subset in Challenge 8, conduct correlation coefficient table"
      ]
    },
    {
      "cell_type": "code",
      "metadata": {
        "id": "QBhxQH-Z-y0p"
      },
      "source": [
        ""
      ],
      "execution_count": null,
      "outputs": []
    },
    {
      "cell_type": "markdown",
      "metadata": {
        "id": "u3G6oAhQ-y0s"
      },
      "source": [
        "### Challenge 11: using new subset in Challenge 8, construct Correlation plot (heatmap) using seaborn"
      ]
    },
    {
      "cell_type": "code",
      "metadata": {
        "id": "_gCNRq30-y0s"
      },
      "source": [
        ""
      ],
      "execution_count": null,
      "outputs": []
    },
    {
      "cell_type": "markdown",
      "metadata": {
        "id": "Bj9gmkJd-y0u"
      },
      "source": [
        "\n",
        "\n",
        "## Linear Regression Example\n"
      ]
    },
    {
      "cell_type": "code",
      "metadata": {
        "id": "4MfPqQzN-y0v"
      },
      "source": [
        "#subset all independent variables  \n",
        "import statsmodels.api as sm\n",
        "indvar = sub_poverty[['PER CAPITA INCOME']]\n",
        "dvar = sub_poverty[['HARDSHIP INDEX']]\n",
        "X = indvar\n",
        "Y = dvar\n",
        "X = sm.add_constant(X)"
      ],
      "execution_count": null,
      "outputs": []
    },
    {
      "cell_type": "code",
      "metadata": {
        "scrolled": true,
        "id": "RTP3l3eh-y0x"
      },
      "source": [
        "model = sm.OLS(Y, X, missing='drop').fit()\n",
        "model.summary()"
      ],
      "execution_count": null,
      "outputs": []
    }
  ]
}